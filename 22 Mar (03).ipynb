{
 "cells": [
  {
   "cell_type": "code",
   "execution_count": null,
   "id": "621aa545-70c0-47ff-bf10-0b082686adfb",
   "metadata": {},
   "outputs": [],
   "source": [
    "import pandas as pd\n",
    "from scipy.stats import pearsonr, spearmanr\n",
    "\n",
    "# Load dataset\n",
    "data = pd.read_csv('dataset.csv')\n",
    "\n",
    "# Calculate Pearson correlation coefficient and p-value\n",
    "pearson_corr, pearson_p_value = pearsonr(data['Hours of Exercise'], data['BMI'])\n",
    "\n",
    "# Calculate Spearman rank correlation coefficient and p-value\n",
    "spearman_corr, spearman_p_value = spearmanr(data['Hours of Exercise'], data['BMI'])\n",
    "\n",
    "# Print results\n",
    "print('Pearson correlation coefficient:', pearson_corr)\n",
    "print('Pearson p-value:', pearson_p_value)\n",
    "print('Spearman correlation coefficient:', spearman_corr)\n",
    "print('Spearman p-value:', spearman_p_value)\n",
    "\n",
    "# Interpret results\n",
    "if abs(pearson_corr) >= abs(spearman_corr):\n",
    "    print('The Pearson correlation coefficient is stronger than or equal to the Spearman rank correlation coefficient.')\n",
    "else:\n",
    "    print('The Spearman rank correlation coefficient is stronger than the Pearson correlation coefficient.')\n"
   ]
  }
 ],
 "metadata": {
  "kernelspec": {
   "display_name": "Python 3 (ipykernel)",
   "language": "python",
   "name": "python3"
  },
  "language_info": {
   "codemirror_mode": {
    "name": "ipython",
    "version": 3
   },
   "file_extension": ".py",
   "mimetype": "text/x-python",
   "name": "python",
   "nbconvert_exporter": "python",
   "pygments_lexer": "ipython3",
   "version": "3.10.8"
  }
 },
 "nbformat": 4,
 "nbformat_minor": 5
}

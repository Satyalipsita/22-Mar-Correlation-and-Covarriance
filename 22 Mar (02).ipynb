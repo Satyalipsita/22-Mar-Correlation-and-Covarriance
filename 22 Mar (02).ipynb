{
 "cells": [
  {
   "cell_type": "code",
   "execution_count": null,
   "id": "507e1bd8-9812-4b5f-81bf-46a5b58f8f5f",
   "metadata": {},
   "outputs": [],
   "source": [
    "import pandas as pd\n",
    "from scipy.stats import spearmanr\n",
    "\n",
    "# Load dataset\n",
    "data = pd.read_csv('dataset.csv')\n",
    "\n",
    "# Calculate Spearman correlation coefficient and p-value\n",
    "corr, p_value = spearmanr(data['Amount of Sleep'], data['Overall Job Satisfaction'])\n",
    "\n",
    "# Print results\n",
    "print('Spearman correlation coefficient:', corr)\n",
    "print('p-value:', p_value)\n",
    "\n",
    "# Interpret results\n",
    "if corr < -0.5:\n",
    "    print('There is a strong negative correlation between amount of sleep and overall job satisfaction.')\n",
    "elif -0.5 <= corr < -0.3:\n",
    "    print('There is a moderate negative correlation between amount of sleep and overall job satisfaction.')\n",
    "elif -0.3 <= corr < 0:\n",
    "    print('There is a weak negative correlation between amount of sleep and overall job satisfaction.')\n",
    "elif 0 <= corr < 0.3:\n",
    "    print('There is a weak positive correlation between amount of sleep and overall job satisfaction.')\n",
    "elif 0.3 <= corr < 0.5:\n",
    "    print('There is a\n"
   ]
  }
 ],
 "metadata": {
  "kernelspec": {
   "display_name": "Python 3 (ipykernel)",
   "language": "python",
   "name": "python3"
  },
  "language_info": {
   "codemirror_mode": {
    "name": "ipython",
    "version": 3
   },
   "file_extension": ".py",
   "mimetype": "text/x-python",
   "name": "python",
   "nbconvert_exporter": "python",
   "pygments_lexer": "ipython3",
   "version": "3.10.8"
  }
 },
 "nbformat": 4,
 "nbformat_minor": 5
}

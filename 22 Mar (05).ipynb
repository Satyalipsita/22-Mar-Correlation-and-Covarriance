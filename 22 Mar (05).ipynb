{
 "cells": [
  {
   "cell_type": "code",
   "execution_count": 1,
   "id": "2b0ca32d-ca33-4572-b32f-502f914bc38f",
   "metadata": {},
   "outputs": [
    {
     "name": "stdout",
     "output_type": "stream",
     "text": [
      "Pearson correlation coefficients:\n",
      "Age             1.000000\n",
      "Coke           -0.837240\n",
      "Mountain Dew    0.394132\n",
      "Pepsi           0.576439\n",
      "Name: Age, dtype: float64\n"
     ]
    }
   ],
   "source": [
    "import pandas as pd\n",
    "\n",
    "# Create dataset\n",
    "data = pd.DataFrame({\n",
    "    'Age': [25, 42, 37, 19, 31, 28],\n",
    "    'Soft Drink': ['Coke', 'Pepsi', 'Mountain Dew', 'Coke', 'Pepsi', 'Coke']\n",
    "})\n",
    "\n",
    "# Convert soft drinks variable to numerical variables using one-hot encoding\n",
    "dummy_vars = pd.get_dummies(data['Soft Drink'])\n",
    "\n",
    "# Concatenate the age variable with the new numerical variables\n",
    "new_data = pd.concat([data['Age'], dummy_vars], axis=1)\n",
    "\n",
    "# Calculate Pearson correlation coefficient between age and the new numerical variables\n",
    "corr = new_data.corr()['Age']\n",
    "\n",
    "# Print results\n",
    "print('Pearson correlation coefficients:')\n",
    "print(corr)\n"
   ]
  },
  {
   "cell_type": "code",
   "execution_count": null,
   "id": "ecd21f3e-309d-40ce-a92c-217181aca2b2",
   "metadata": {},
   "outputs": [],
   "source": []
  }
 ],
 "metadata": {
  "kernelspec": {
   "display_name": "Python 3 (ipykernel)",
   "language": "python",
   "name": "python3"
  },
  "language_info": {
   "codemirror_mode": {
    "name": "ipython",
    "version": 3
   },
   "file_extension": ".py",
   "mimetype": "text/x-python",
   "name": "python",
   "nbconvert_exporter": "python",
   "pygments_lexer": "ipython3",
   "version": "3.10.8"
  }
 },
 "nbformat": 4,
 "nbformat_minor": 5
}

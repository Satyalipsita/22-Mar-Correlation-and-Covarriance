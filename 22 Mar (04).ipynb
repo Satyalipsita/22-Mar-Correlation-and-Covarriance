{
 "cells": [
  {
   "cell_type": "code",
   "execution_count": null,
   "id": "e3d6d491-4b20-4d2e-8710-7cc2bd109831",
   "metadata": {},
   "outputs": [],
   "source": [
    "import pandas as pd\n",
    "from scipy.stats import pearsonr\n",
    "\n",
    "# Load dataset\n",
    "data = pd.read_csv('dataset.csv')\n",
    "\n",
    "# Calculate Pearson correlation coefficient and p-value\n",
    "corr, p_value = pearsonr(data['Hours of TV'], data['Physical Activity'])\n",
    "\n",
    "# Print results\n",
    "print('Pearson correlation coefficient:', corr)\n",
    "print('p-value:', p_value)\n",
    "\n",
    "# Interpret results\n",
    "if corr < -0.5:\n",
    "    print('There is a strong negative correlation between number of hours users watch TV and physical activity.')\n",
    "elif -0.5 <= corr < -0.3:\n",
    "    print('There is a moderate negative correlation between number of hours users watch TV and physical activity.')\n",
    "elif -0.3 <= corr < 0:\n",
    "    print('There is a weak negative correlation between number of hours users watch TV and physical activity.')\n",
    "elif 0 <= corr < 0.3:\n",
    "    print('There is a weak positive correlation between number of hours users watch TV and physical activity.')\n",
    "elif 0.3 <= corr < 0.5:\n",
    "    print('There is a moderate positive correlation between number of hours users watch TV and physical activity.')\n",
    "else:\n",
    "    print('There is a strong positive correlation between number of hours users watch TV and physical activity.')\n"
   ]
  }
 ],
 "metadata": {
  "kernelspec": {
   "display_name": "Python 3 (ipykernel)",
   "language": "python",
   "name": "python3"
  },
  "language_info": {
   "codemirror_mode": {
    "name": "ipython",
    "version": 3
   },
   "file_extension": ".py",
   "mimetype": "text/x-python",
   "name": "python",
   "nbconvert_exporter": "python",
   "pygments_lexer": "ipython3",
   "version": "3.10.8"
  }
 },
 "nbformat": 4,
 "nbformat_minor": 5
}

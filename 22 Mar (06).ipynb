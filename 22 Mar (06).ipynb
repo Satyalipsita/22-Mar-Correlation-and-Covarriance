{
 "cells": [
  {
   "cell_type": "code",
   "execution_count": null,
   "id": "76e967b2-9fc8-4113-884a-d85ebfd82ced",
   "metadata": {},
   "outputs": [],
   "source": [
    "import pandas as pd\n",
    "\n",
    "# Load dataset into DataFrame\n",
    "data = pd.read_csv('calls.csv')\n",
    "\n",
    "# Calculate Pearson correlation coefficient between number of calls per day and per week\n",
    "corr = data['Calls per day'].corr(data['Calls per week'], method='pearson')\n",
    "\n",
    "# Print result\n",
    "print('Pearson correlation coefficient:', corr)\n"
   ]
  }
 ],
 "metadata": {
  "kernelspec": {
   "display_name": "Python 3 (ipykernel)",
   "language": "python",
   "name": "python3"
  },
  "language_info": {
   "codemirror_mode": {
    "name": "ipython",
    "version": 3
   },
   "file_extension": ".py",
   "mimetype": "text/x-python",
   "name": "python",
   "nbconvert_exporter": "python",
   "pygments_lexer": "ipython3",
   "version": "3.10.8"
  }
 },
 "nbformat": 4,
 "nbformat_minor": 5
}
